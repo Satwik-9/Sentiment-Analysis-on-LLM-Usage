{
  "cells": [
    {
      "cell_type": "code",
      "execution_count": 1,
      "metadata": {
        "colab": {
          "base_uri": "https://localhost:8080/"
        },
        "id": "6ruw9ej5OBR4",
        "outputId": "fc72f50a-2f41-4ab0-b852-ba50a56134ab"
      },
      "outputs": [
        {
          "name": "stdout",
          "output_type": "stream",
          "text": [
            "Looking in indexes: https://pypi.org/simple, https://us-python.pkg.dev/colab-wheels/public/simple/\n",
            "Collecting snscrape\n",
            "  Downloading snscrape-0.6.2.20230320-py3-none-any.whl (71 kB)\n",
            "\u001b[2K     \u001b[90m━━━━━━━━━━━━━━━━━━━━━━━━━━━━━━━━━━━━━━━━\u001b[0m \u001b[32m71.8/71.8 KB\u001b[0m \u001b[31m3.0 MB/s\u001b[0m eta \u001b[36m0:00:00\u001b[0m\n",
            "\u001b[?25hRequirement already satisfied: filelock in /usr/local/lib/python3.9/dist-packages (from snscrape) (3.10.1)\n",
            "Requirement already satisfied: lxml in /usr/local/lib/python3.9/dist-packages (from snscrape) (4.9.2)\n",
            "Requirement already satisfied: beautifulsoup4 in /usr/local/lib/python3.9/dist-packages (from snscrape) (4.11.2)\n",
            "Requirement already satisfied: requests[socks] in /usr/local/lib/python3.9/dist-packages (from snscrape) (2.27.1)\n",
            "Requirement already satisfied: soupsieve>1.2 in /usr/local/lib/python3.9/dist-packages (from beautifulsoup4->snscrape) (2.4)\n",
            "Requirement already satisfied: idna<4,>=2.5 in /usr/local/lib/python3.9/dist-packages (from requests[socks]->snscrape) (3.4)\n",
            "Requirement already satisfied: urllib3<1.27,>=1.21.1 in /usr/local/lib/python3.9/dist-packages (from requests[socks]->snscrape) (1.26.15)\n",
            "Requirement already satisfied: charset-normalizer~=2.0.0 in /usr/local/lib/python3.9/dist-packages (from requests[socks]->snscrape) (2.0.12)\n",
            "Requirement already satisfied: certifi>=2017.4.17 in /usr/local/lib/python3.9/dist-packages (from requests[socks]->snscrape) (2022.12.7)\n",
            "Requirement already satisfied: PySocks!=1.5.7,>=1.5.6 in /usr/local/lib/python3.9/dist-packages (from requests[socks]->snscrape) (1.7.1)\n",
            "Installing collected packages: snscrape\n",
            "Successfully installed snscrape-0.6.2.20230320\n"
          ]
        }
      ],
      "source": [
        "!pip install snscrape"
      ]
    },
    {
      "cell_type": "code",
      "execution_count": 2,
      "metadata": {
        "id": "tbkAyoVQOLsR"
      },
      "outputs": [],
      "source": [
        "import snscrape.modules.twitter as sntwitter\n",
        "import pandas as pd"
      ]
    },
    {
      "cell_type": "code",
      "execution_count": 6,
      "metadata": {
        "colab": {
          "base_uri": "https://localhost:8080/"
        },
        "id": "FX2cjPXlOLvG",
        "outputId": "f52ab2c1-0a07-4a08-ea3a-9e5909d1e0a2"
      },
      "outputs": [
        {
          "name": "stderr",
          "output_type": "stream",
          "text": [
            "<ipython-input-6-54da93823e83>:12: DeprecatedFeatureWarning: username is deprecated, use user.username instead\n",
            "  collected_tweets.append([tweet.username, tweet.date, tweet.id, tweet.content])\n",
            "<ipython-input-6-54da93823e83>:12: DeprecatedFeatureWarning: content is deprecated, use rawContent instead\n",
            "  collected_tweets.append([tweet.username, tweet.date, tweet.id, tweet.content])\n"
          ]
        }
      ],
      "source": [
        "from re import IGNORECASE\n",
        "collected_tweets= []\n",
        "query = \"#chatGPT until:{} lang:en\"\n",
        "tweet_4_15_days = ['2022-12-01','2022-12-02','2022-12-03','2022-12-04','2022-12-05','2022-12-06','2022-12-07','2022-12-08','2022-12-09','2022-12-10','2023-02-01','2023-02-02','2023-02-03','2023-02-04','2023-02-05','2023-01-05','2023-01-06','2023-01-08','2023-01-10','2023-01-12','2023-01-14','2023-01-16','2023-01-18','2023-01-20','2023-01-22']\n",
        "maxTweets = 60\n",
        "for t in tweet_4_15_days:\n",
        "    query_str = query.format(t)\n",
        "    collected_tweets_iter = sntwitter.TwitterSearchScraper(query_str).get_items()\n",
        "    for i, tweet in enumerate(collected_tweets_iter):\n",
        "        if i >= maxTweets:\n",
        "            break\n",
        "        collected_tweets.append([tweet.username, tweet.date, tweet.id, tweet.content])\n",
        "Chat_tweets = pd.DataFrame(collected_tweets, columns=['UserName','Datetime', 'Tweet Id', 'Text'])"
      ]
    },
    {
      "cell_type": "code",
      "execution_count": 7,
      "metadata": {
        "colab": {
          "base_uri": "https://localhost:8080/"
        },
        "id": "nSsPQKmnOLxd",
        "outputId": "9cd13eec-f8e2-4676-d301-e200783a3292"
      },
      "outputs": [
        {
          "data": {
            "text/plain": [
              "(1500, 4)"
            ]
          },
          "execution_count": 7,
          "metadata": {},
          "output_type": "execute_result"
        }
      ],
      "source": [
        "Chat_tweets.shape"
      ]
    },
    {
      "cell_type": "code",
      "execution_count": 10,
      "metadata": {
        "colab": {
          "base_uri": "https://localhost:8080/",
          "height": 17
        },
        "id": "VCT7VPQLOLzz",
        "outputId": "3553332e-f48d-435b-e8c3-e13af0a58f89"
      },
      "outputs": [
        {
          "data": {
            "application/javascript": "\n    async function download(id, filename, size) {\n      if (!google.colab.kernel.accessAllowed) {\n        return;\n      }\n      const div = document.createElement('div');\n      const label = document.createElement('label');\n      label.textContent = `Downloading \"${filename}\": `;\n      div.appendChild(label);\n      const progress = document.createElement('progress');\n      progress.max = size;\n      div.appendChild(progress);\n      document.body.appendChild(div);\n\n      const buffers = [];\n      let downloaded = 0;\n\n      const channel = await google.colab.kernel.comms.open(id);\n      // Send a message to notify the kernel that we're ready.\n      channel.send({})\n\n      for await (const message of channel.messages) {\n        // Send a message to notify the kernel that we're ready.\n        channel.send({})\n        if (message.buffers) {\n          for (const buffer of message.buffers) {\n            buffers.push(buffer);\n            downloaded += buffer.byteLength;\n            progress.value = downloaded;\n          }\n        }\n      }\n      const blob = new Blob(buffers, {type: 'application/binary'});\n      const a = document.createElement('a');\n      a.href = window.URL.createObjectURL(blob);\n      a.download = filename;\n      div.appendChild(a);\n      a.click();\n      div.remove();\n    }\n  ",
            "text/plain": [
              "<IPython.core.display.Javascript object>"
            ]
          },
          "metadata": {},
          "output_type": "display_data"
        },
        {
          "data": {
            "application/javascript": "download(\"download_81da7420-3e10-4e9e-847c-dea5c16dc129\", \"Chat_tweets.csv\", 333365)",
            "text/plain": [
              "<IPython.core.display.Javascript object>"
            ]
          },
          "metadata": {},
          "output_type": "display_data"
        }
      ],
      "source": [
        "from google.colab import files\n",
        "\n",
        "Chat_tweets.to_csv(\"Chat_tweets.csv\",index=False)\n",
        "files.download(\"Chat_tweets.csv\")"
      ]
    },
    {
      "cell_type": "code",
      "execution_count": 18,
      "metadata": {
        "colab": {
          "base_uri": "https://localhost:8080/"
        },
        "id": "ACA8zXIeOL17",
        "outputId": "cbf4ef23-0f7a-471e-d8cd-4a8f923879c6"
      },
      "outputs": [
        {
          "name": "stderr",
          "output_type": "stream",
          "text": [
            "<ipython-input-18-baa9f6b3f146>:11: DeprecatedFeatureWarning: username is deprecated, use user.username instead\n",
            "  collected_tweets.append([tweet.username, tweet.date, tweet.id, tweet.content])\n",
            "<ipython-input-18-baa9f6b3f146>:11: DeprecatedFeatureWarning: content is deprecated, use rawContent instead\n",
            "  collected_tweets.append([tweet.username, tweet.date, tweet.id, tweet.content])\n"
          ]
        }
      ],
      "source": [
        "collected_tweets= []\n",
        "query = \"#chatgpt until:{} lang:en\"\n",
        "tweet_4_15_days = ['2022-12-01','2022-12-02','2022-12-03','2022-12-04','2022-12-05','2022-12-06','2022-12-07','2022-12-08','2022-12-09','2022-12-10','2023-02-01','2023-02-02','2023-02-03','2023-02-04','2023-02-05','2023-01-05','2023-01-06','2023-01-08','2023-01-10','2023-01-12','2023-01-14','2023-01-16','2023-01-18','2023-01-20','2023-01-22']\n",
        "maxTweets = 60\n",
        "for t in tweet_4_15_days:\n",
        "    query_str = query.format(t)\n",
        "    collected_tweets_iter = sntwitter.TwitterSearchScraper(query_str).get_items()\n",
        "    for i, tweet in enumerate(collected_tweets_iter):\n",
        "        if i >= maxTweets:\n",
        "            break\n",
        "        collected_tweets.append([tweet.username, tweet.date, tweet.id, tweet.content])\n",
        "cht_tweets = pd.DataFrame(collected_tweets, columns=['UserName','Datetime', 'Tweet Id', 'Text'])"
      ]
    },
    {
      "cell_type": "code",
      "execution_count": 19,
      "metadata": {
        "colab": {
          "base_uri": "https://localhost:8080/"
        },
        "id": "y4lFrs8dOL39",
        "outputId": "d12676b4-797f-421e-92cd-9de1d4e7826a"
      },
      "outputs": [
        {
          "data": {
            "text/plain": [
              "(1500, 4)"
            ]
          },
          "execution_count": 19,
          "metadata": {},
          "output_type": "execute_result"
        }
      ],
      "source": [
        "cht_tweets.shape"
      ]
    }
  ],
  "metadata": {
    "colab": {
      "name": "Welcome To Colaboratory",
      "provenance": []
    },
    "kernelspec": {
      "display_name": "Python 3",
      "name": "python3"
    }
  },
  "nbformat": 4,
  "nbformat_minor": 0
}
