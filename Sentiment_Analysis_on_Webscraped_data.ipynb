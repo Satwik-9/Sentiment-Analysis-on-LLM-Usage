{
 "cells": [
  {
   "cell_type": "code",
   "execution_count": 2,
   "id": "e9eb2511",
   "metadata": {},
   "outputs": [],
   "source": [
    "import pandas as pd\n",
    "import numpy as np\n",
    "import matplotlib.pyplot as plt\n",
    "import seaborn as sns\n",
    "\n",
    "import nltk\n",
    "from nltk.corpus import subjectivity,stopwords\n",
    "from nltk.sentiment import SentimentAnalyzer\n",
    "from nltk.sentiment.util import *\n",
    "from nltk import word_tokenize,sent_tokenize\n",
    "from nltk.stem import WordNetLemmatizer\n",
    "from nltk.stem import PorterStemmer \n",
    "from nltk.sentiment.util import extract_unigram_feats, mark_negation\n",
    "from textblob import TextBlob\n",
    "from nltk.sentiment.vader import SentimentIntensityAnalyzer\n",
    "import string\n",
    "import random\n",
    "import re\n",
    "import io\n",
    "\n",
    "from PIL import Image\n",
    "from wordcloud import WordCloud, STOPWORDS, ImageColorGenerator\n",
    "\n",
    "exclude = set(string.punctuation)"
   ]
  },
  {
   "cell_type": "code",
   "execution_count": 3,
   "id": "4ffea717",
   "metadata": {},
   "outputs": [
    {
     "name": "stdout",
     "output_type": "stream",
     "text": [
      "(1500, 4)\n"
     ]
    }
   ],
   "source": [
    "Chat_tweets = pd.read_csv(\"Chat_tweets.csv\")\n",
    "print(Chat_tweets.shape)"
   ]
  },
  {
   "cell_type": "code",
   "execution_count": 4,
   "id": "26bff068",
   "metadata": {},
   "outputs": [
    {
     "name": "stdout",
     "output_type": "stream",
     "text": [
      "Collecting textblob\n",
      "  Downloading textblob-0.17.1-py2.py3-none-any.whl (636 kB)\n",
      "\u001b[K     |████████████████████████████████| 636 kB 3.9 MB/s eta 0:00:01\n",
      "\u001b[?25hRequirement already satisfied: nltk>=3.1 in /Users/satwikchowdaryinampudi/opt/anaconda3/lib/python3.9/site-packages (from textblob) (3.7)\n",
      "Requirement already satisfied: regex>=2021.8.3 in /Users/satwikchowdaryinampudi/opt/anaconda3/lib/python3.9/site-packages (from nltk>=3.1->textblob) (2022.3.15)\n",
      "Requirement already satisfied: tqdm in /Users/satwikchowdaryinampudi/opt/anaconda3/lib/python3.9/site-packages (from nltk>=3.1->textblob) (4.64.0)\n",
      "Requirement already satisfied: click in /Users/satwikchowdaryinampudi/opt/anaconda3/lib/python3.9/site-packages (from nltk>=3.1->textblob) (8.0.4)\n",
      "Requirement already satisfied: joblib in /Users/satwikchowdaryinampudi/opt/anaconda3/lib/python3.9/site-packages (from nltk>=3.1->textblob) (1.1.0)\n",
      "Installing collected packages: textblob\n",
      "Successfully installed textblob-0.17.1\n",
      "Note: you may need to restart the kernel to use updated packages.\n"
     ]
    }
   ],
   "source": [
    "#pip install textblob"
   ]
  },
  {
   "cell_type": "code",
   "execution_count": 4,
   "id": "d52d8cda",
   "metadata": {},
   "outputs": [],
   "source": [
    "def remove_b_prefix(string):\n",
    "    return string.lstrip('b')\n",
    "\n",
    "Chat_tweets['cleaned_tweet'] = Chat_tweets['Text'].apply(remove_b_prefix)"
   ]
  },
  {
   "cell_type": "code",
   "execution_count": 5,
   "id": "1c9330f7",
   "metadata": {},
   "outputs": [],
   "source": [
    "def clean_tweet_text(tweet_text):\n",
    "    pattern = r\"(@[\\w]+)|(#)|(https?://[A-Za-z0-9./]*)|([0-9]+|\\n)|([^0-9A-Za-z!? \\t])|(\\w+:\\/\\/\\S+)|('rt')\"\n",
    "    clean_text = re.sub(pattern, '', tweet_text)\n",
    "    return clean_text.lower()\n",
    "\n",
    "Chat_tweets['cleaned_tweet'] = Chat_tweets['cleaned_tweet'].apply(clean_tweet_text)"
   ]
  },
  {
   "cell_type": "code",
   "execution_count": 6,
   "id": "04944b39",
   "metadata": {},
   "outputs": [],
   "source": [
    "import string\n",
    "from nltk.corpus import stopwords\n",
    "my_stopwords=['i','im','is','am','are','was','he','she','me','you','your',\n",
    "             'by','for','of','they','them','this','that','these','those',\n",
    "             'what','how','where','why''the','a','an','and','has','had','have','be','in']\n",
    "\n",
    "def preprocess_tweet_text(tweet_text):\n",
    "    words = tweet_text.split()\n",
    "    words = [word for word in words if word.lower() not in my_stopwords]\n",
    "    words = [\"\".join(ch for ch in word if ch not in exclude) for word in words]\n",
    "    clean_text = \" \".join(words)    \n",
    "    return clean_text\n",
    "Chat_tweets['cleaned_tweet'] = Chat_tweets['cleaned_tweet'].apply(preprocess_tweet_text)"
   ]
  },
  {
   "cell_type": "code",
   "execution_count": 7,
   "id": "ae56cbe9",
   "metadata": {},
   "outputs": [
    {
     "data": {
      "text/html": [
       "<div>\n",
       "<style scoped>\n",
       "    .dataframe tbody tr th:only-of-type {\n",
       "        vertical-align: middle;\n",
       "    }\n",
       "\n",
       "    .dataframe tbody tr th {\n",
       "        vertical-align: top;\n",
       "    }\n",
       "\n",
       "    .dataframe thead th {\n",
       "        text-align: right;\n",
       "    }\n",
       "</style>\n",
       "<table border=\"1\" class=\"dataframe\">\n",
       "  <thead>\n",
       "    <tr style=\"text-align: right;\">\n",
       "      <th></th>\n",
       "      <th>UserName</th>\n",
       "      <th>Datetime</th>\n",
       "      <th>Tweet Id</th>\n",
       "      <th>Text</th>\n",
       "      <th>cleaned_tweet</th>\n",
       "    </tr>\n",
       "  </thead>\n",
       "  <tbody>\n",
       "    <tr>\n",
       "      <th>0</th>\n",
       "      <td>charis_ai</td>\n",
       "      <td>2022-11-30 23:56:04+00:00</td>\n",
       "      <td>1598103601507102720</td>\n",
       "      <td>Overall, using AI to create art can expand the...</td>\n",
       "      <td>overall using ai to create art can expand the ...</td>\n",
       "    </tr>\n",
       "    <tr>\n",
       "      <th>1</th>\n",
       "      <td>anthonypak</td>\n",
       "      <td>2022-11-30 23:54:08+00:00</td>\n",
       "      <td>1598103115060084736</td>\n",
       "      <td>Just played around with OpenAI's new #ChatGPT ...</td>\n",
       "      <td>just played around with openais new chatgpt mo...</td>\n",
       "    </tr>\n",
       "    <tr>\n",
       "      <th>2</th>\n",
       "      <td>emargusity</td>\n",
       "      <td>2022-11-30 23:51:34+00:00</td>\n",
       "      <td>1598102468243599361</td>\n",
       "      <td>I asked #ChatGPT to write me a story about Sov...</td>\n",
       "      <td>asked chatgpt to write story about sova jett f...</td>\n",
       "    </tr>\n",
       "  </tbody>\n",
       "</table>\n",
       "</div>"
      ],
      "text/plain": [
       "     UserName                   Datetime             Tweet Id  \\\n",
       "0   charis_ai  2022-11-30 23:56:04+00:00  1598103601507102720   \n",
       "1  anthonypak  2022-11-30 23:54:08+00:00  1598103115060084736   \n",
       "2  emargusity  2022-11-30 23:51:34+00:00  1598102468243599361   \n",
       "\n",
       "                                                Text  \\\n",
       "0  Overall, using AI to create art can expand the...   \n",
       "1  Just played around with OpenAI's new #ChatGPT ...   \n",
       "2  I asked #ChatGPT to write me a story about Sov...   \n",
       "\n",
       "                                       cleaned_tweet  \n",
       "0  overall using ai to create art can expand the ...  \n",
       "1  just played around with openais new chatgpt mo...  \n",
       "2  asked chatgpt to write story about sova jett f...  "
      ]
     },
     "execution_count": 7,
     "metadata": {},
     "output_type": "execute_result"
    }
   ],
   "source": [
    "Chat_tweets.head(3)"
   ]
  },
  {
   "cell_type": "code",
   "execution_count": 8,
   "id": "fd48ea42",
   "metadata": {},
   "outputs": [
    {
     "data": {
      "text/plain": [
       "'overall using ai to create art can expand the boundaries creativity allow artists to explore new directions their work chatgpt'"
      ]
     },
     "execution_count": 8,
     "metadata": {},
     "output_type": "execute_result"
    }
   ],
   "source": [
    "Chat_tweets['cleaned_tweet'][0]"
   ]
  },
  {
   "cell_type": "code",
   "execution_count": 9,
   "id": "5a749371",
   "metadata": {},
   "outputs": [
    {
     "data": {
      "text/plain": [
       "UserName         object\n",
       "Datetime         object\n",
       "Tweet Id          int64\n",
       "Text             object\n",
       "cleaned_tweet    object\n",
       "dtype: object"
      ]
     },
     "execution_count": 9,
     "metadata": {},
     "output_type": "execute_result"
    }
   ],
   "source": [
    "Chat_tweets.dtypes"
   ]
  },
  {
   "cell_type": "code",
   "execution_count": 25,
   "id": "cb36e6aa",
   "metadata": {},
   "outputs": [
    {
     "name": "stderr",
     "output_type": "stream",
     "text": [
      "[nltk_data] Downloading package vader_lexicon to\n",
      "[nltk_data]     /Users/satwikchowdaryinampudi/nltk_data...\n",
      "[nltk_data]   Package vader_lexicon is already up-to-date!\n"
     ]
    },
    {
     "data": {
      "text/plain": [
       "True"
      ]
     },
     "execution_count": 25,
     "metadata": {},
     "output_type": "execute_result"
    }
   ],
   "source": [
    "nltk.download('vader_lexicon')"
   ]
  },
  {
   "cell_type": "code",
   "execution_count": 10,
   "id": "8c7231b1",
   "metadata": {},
   "outputs": [],
   "source": [
    "sa = SentimentIntensityAnalyzer()"
   ]
  },
  {
   "cell_type": "code",
   "execution_count": 11,
   "id": "2cbe981f",
   "metadata": {},
   "outputs": [],
   "source": [
    "import re\n",
    "from nltk.tokenize import word_tokenize, sent_tokenize\n",
    "from nltk.stem import WordNetLemmatizer\n",
    "\n",
    "lemma = WordNetLemmatizer()\n",
    "\n",
    "def split(text):\n",
    "    text = re.sub(r'[^\\x00-\\x7f]', r'', text) # remove non-ascii characters\n",
    "    sentences = sent_tokenize(text)\n",
    "    tokenized_sentences = [word_tokenize(sent) for sent in sentences]\n",
    "    tokenized_sentences = [[lemma.lemmatize(token) for token in sent if token.isalnum()] for sent in tokenized_sentences]\n",
    "    return tokenized_sentences"
   ]
  },
  {
   "cell_type": "code",
   "execution_count": 12,
   "id": "cf99cc32",
   "metadata": {},
   "outputs": [
    {
     "data": {
      "text/plain": [
       "0       {'neg': 0.0, 'neu': 0.643, 'pos': 0.357, 'comp...\n",
       "1       {'neg': 0.0, 'neu': 0.897, 'pos': 0.103, 'comp...\n",
       "2       {'neg': 0.116, 'neu': 0.58, 'pos': 0.304, 'com...\n",
       "3       {'neg': 0.0, 'neu': 0.611, 'pos': 0.389, 'comp...\n",
       "4       {'neg': 0.0, 'neu': 0.585, 'pos': 0.415, 'comp...\n",
       "                              ...                        \n",
       "1495    {'neg': 0.0, 'neu': 1.0, 'pos': 0.0, 'compound...\n",
       "1496    {'neg': 0.243, 'neu': 0.757, 'pos': 0.0, 'comp...\n",
       "1497    {'neg': 0.0, 'neu': 0.854, 'pos': 0.146, 'comp...\n",
       "1498    {'neg': 0.158, 'neu': 0.443, 'pos': 0.399, 'co...\n",
       "1499    {'neg': 0.0, 'neu': 1.0, 'pos': 0.0, 'compound...\n",
       "Name: sentiment_rule, Length: 1500, dtype: object"
      ]
     },
     "execution_count": 12,
     "metadata": {},
     "output_type": "execute_result"
    }
   ],
   "source": [
    "Chat_tweets['sentiment_rule'] = Chat_tweets.cleaned_tweet.apply(lambda x : sa.polarity_scores(x))\n",
    "Chat_tweets['sentiment_rule']"
   ]
  },
  {
   "cell_type": "code",
   "execution_count": 13,
   "id": "9d005a1a",
   "metadata": {},
   "outputs": [],
   "source": [
    "def vader_compound(senti):\n",
    "    if senti['compound'] >= 0.05:\n",
    "        return \"Positive\"\n",
    "    elif senti['compound'] <= -0.05:\n",
    "        return \"Negative\"\n",
    "    else:\n",
    "        return \"Neutral\""
   ]
  },
  {
   "cell_type": "code",
   "execution_count": 14,
   "id": "0129564c",
   "metadata": {},
   "outputs": [
    {
     "data": {
      "text/html": [
       "<div>\n",
       "<style scoped>\n",
       "    .dataframe tbody tr th:only-of-type {\n",
       "        vertical-align: middle;\n",
       "    }\n",
       "\n",
       "    .dataframe tbody tr th {\n",
       "        vertical-align: top;\n",
       "    }\n",
       "\n",
       "    .dataframe thead th {\n",
       "        text-align: right;\n",
       "    }\n",
       "</style>\n",
       "<table border=\"1\" class=\"dataframe\">\n",
       "  <thead>\n",
       "    <tr style=\"text-align: right;\">\n",
       "      <th></th>\n",
       "      <th>UserName</th>\n",
       "      <th>Datetime</th>\n",
       "      <th>Tweet Id</th>\n",
       "      <th>Text</th>\n",
       "      <th>cleaned_tweet</th>\n",
       "      <th>sentiment_rule</th>\n",
       "      <th>sentiment_compound</th>\n",
       "    </tr>\n",
       "  </thead>\n",
       "  <tbody>\n",
       "    <tr>\n",
       "      <th>0</th>\n",
       "      <td>charis_ai</td>\n",
       "      <td>2022-11-30 23:56:04+00:00</td>\n",
       "      <td>1598103601507102720</td>\n",
       "      <td>Overall, using AI to create art can expand the...</td>\n",
       "      <td>overall using ai to create art can expand the ...</td>\n",
       "      <td>{'neg': 0.0, 'neu': 0.643, 'pos': 0.357, 'comp...</td>\n",
       "      <td>Positive</td>\n",
       "    </tr>\n",
       "    <tr>\n",
       "      <th>1</th>\n",
       "      <td>anthonypak</td>\n",
       "      <td>2022-11-30 23:54:08+00:00</td>\n",
       "      <td>1598103115060084736</td>\n",
       "      <td>Just played around with OpenAI's new #ChatGPT ...</td>\n",
       "      <td>just played around with openais new chatgpt mo...</td>\n",
       "      <td>{'neg': 0.0, 'neu': 0.897, 'pos': 0.103, 'comp...</td>\n",
       "      <td>Positive</td>\n",
       "    </tr>\n",
       "    <tr>\n",
       "      <th>2</th>\n",
       "      <td>emargusity</td>\n",
       "      <td>2022-11-30 23:51:34+00:00</td>\n",
       "      <td>1598102468243599361</td>\n",
       "      <td>I asked #ChatGPT to write me a story about Sov...</td>\n",
       "      <td>asked chatgpt to write story about sova jett f...</td>\n",
       "      <td>{'neg': 0.116, 'neu': 0.58, 'pos': 0.304, 'com...</td>\n",
       "      <td>Positive</td>\n",
       "    </tr>\n",
       "    <tr>\n",
       "      <th>3</th>\n",
       "      <td>gpeters</td>\n",
       "      <td>2022-11-30 23:51:25+00:00</td>\n",
       "      <td>1598102431073959936</td>\n",
       "      <td>OpenAI's new ChatGPT is very good at creative ...</td>\n",
       "      <td>openais new chatgpt very good at creative writ...</td>\n",
       "      <td>{'neg': 0.0, 'neu': 0.611, 'pos': 0.389, 'comp...</td>\n",
       "      <td>Positive</td>\n",
       "    </tr>\n",
       "    <tr>\n",
       "      <th>4</th>\n",
       "      <td>ArashSaeidpour</td>\n",
       "      <td>2022-11-30 23:47:22+00:00</td>\n",
       "      <td>1598101410100674560</td>\n",
       "      <td>This is a great improvement! Unlike text-davin...</td>\n",
       "      <td>great improvement unlike textdavinci chatgpt u...</td>\n",
       "      <td>{'neg': 0.0, 'neu': 0.585, 'pos': 0.415, 'comp...</td>\n",
       "      <td>Positive</td>\n",
       "    </tr>\n",
       "  </tbody>\n",
       "</table>\n",
       "</div>"
      ],
      "text/plain": [
       "         UserName                   Datetime             Tweet Id  \\\n",
       "0       charis_ai  2022-11-30 23:56:04+00:00  1598103601507102720   \n",
       "1      anthonypak  2022-11-30 23:54:08+00:00  1598103115060084736   \n",
       "2      emargusity  2022-11-30 23:51:34+00:00  1598102468243599361   \n",
       "3         gpeters  2022-11-30 23:51:25+00:00  1598102431073959936   \n",
       "4  ArashSaeidpour  2022-11-30 23:47:22+00:00  1598101410100674560   \n",
       "\n",
       "                                                Text  \\\n",
       "0  Overall, using AI to create art can expand the...   \n",
       "1  Just played around with OpenAI's new #ChatGPT ...   \n",
       "2  I asked #ChatGPT to write me a story about Sov...   \n",
       "3  OpenAI's new ChatGPT is very good at creative ...   \n",
       "4  This is a great improvement! Unlike text-davin...   \n",
       "\n",
       "                                       cleaned_tweet  \\\n",
       "0  overall using ai to create art can expand the ...   \n",
       "1  just played around with openais new chatgpt mo...   \n",
       "2  asked chatgpt to write story about sova jett f...   \n",
       "3  openais new chatgpt very good at creative writ...   \n",
       "4  great improvement unlike textdavinci chatgpt u...   \n",
       "\n",
       "                                      sentiment_rule sentiment_compound  \n",
       "0  {'neg': 0.0, 'neu': 0.643, 'pos': 0.357, 'comp...           Positive  \n",
       "1  {'neg': 0.0, 'neu': 0.897, 'pos': 0.103, 'comp...           Positive  \n",
       "2  {'neg': 0.116, 'neu': 0.58, 'pos': 0.304, 'com...           Positive  \n",
       "3  {'neg': 0.0, 'neu': 0.611, 'pos': 0.389, 'comp...           Positive  \n",
       "4  {'neg': 0.0, 'neu': 0.585, 'pos': 0.415, 'comp...           Positive  "
      ]
     },
     "execution_count": 14,
     "metadata": {},
     "output_type": "execute_result"
    }
   ],
   "source": [
    "Chat_tweets['sentiment_compound'] = Chat_tweets['sentiment_rule'].apply(lambda x: vader_compound(x))\n",
    "Chat_tweets.head()"
   ]
  },
  {
   "cell_type": "code",
   "execution_count": 15,
   "id": "f4d4e87d",
   "metadata": {},
   "outputs": [
    {
     "data": {
      "text/plain": [
       "Positive    761\n",
       "Neutral     468\n",
       "Negative    271\n",
       "Name: sentiment_compound, dtype: int64"
      ]
     },
     "execution_count": 15,
     "metadata": {},
     "output_type": "execute_result"
    }
   ],
   "source": [
    "Chat_tweets.sentiment_compound.value_counts()"
   ]
  },
  {
   "cell_type": "code",
   "execution_count": 16,
   "id": "91647dd4",
   "metadata": {},
   "outputs": [
    {
     "data": {
      "image/png": "[encoded data removed]",
      "text/plain": [
       "<Figure size 432x288 with 1 Axes>"
      ]
     },
     "metadata": {
      "needs_background": "light"
     },
     "output_type": "display_data"
    }
   ],
   "source": [
    "\n",
    "# Data\n",
    "categories = ['Positive', 'Negative', 'Neutral']\n",
    "counts = [761, 468, 271]\n",
    "colors = ['#5cb85c', '#d9534f', '#f0ad4e']\n",
    "\n",
    "# Calculate percentages\n",
    "total = sum(counts)\n",
    "percentages = [count/total*100 for count in counts]\n",
    "\n",
    "# Create a bar chart\n",
    "fig, ax = plt.subplots()\n",
    "bars = ax.bar(categories, counts, color=colors)\n",
    "\n",
    "# Add percentages to the bars\n",
    "for i, bar in enumerate(bars):\n",
    "    ax.text(bar.get_x() + bar.get_width()/2, bar.get_height(),\n",
    "            f'{percentages[i]:.1f}%', ha='center', va='bottom')\n",
    "\n",
    "# Add labels and title\n",
    "ax.set_xlabel('Categories')\n",
    "ax.set_ylabel('Counts')\n",
    "ax.set_title('Categorical Data')\n",
    "\n",
    "# Show the chart\n",
    "plt.show()"
   ]
  },
  {
   "cell_type": "code",
   "execution_count": 17,
   "id": "43c9f48a",
   "metadata": {},
   "outputs": [
    {
     "data": {
      "text/plain": [
       "Index(['UserName', 'Datetime', 'Tweet Id', 'Text', 'cleaned_tweet',\n",
       "       'sentiment_rule', 'sentiment_compound'],\n",
       "      dtype='object')"
      ]
     },
     "execution_count": 17,
     "metadata": {},
     "output_type": "execute_result"
    }
   ],
   "source": [
    "Chat_tweets.columns"
   ]
  },
  {
   "cell_type": "code",
   "execution_count": 19,
   "id": "820878d7",
   "metadata": {},
   "outputs": [
    {
     "data": {
      "image/png": "[encoded data removed]",
      "text/plain": [
       "<Figure size 720x288 with 1 Axes>"
      ]
     },
     "metadata": {
      "needs_background": "light"
     },
     "output_type": "display_data"
    }
   ],
   "source": [
    "Chat_tweets['date'] = pd.to_datetime(Chat_tweets['Datetime']).dt.date\n",
    "sentiment_df = Chat_tweets[['sentiment_compound','date']].reset_index(drop=True)\n",
    "sentiment_map = {'Positive': 1, 'Neutral': 2, 'Negative': 3}\n",
    "sentiment_df['sentiment_compound'] = sentiment_df['sentiment_compound'].map(sentiment_map)\n",
    "sentiment_count = sentiment_df.groupby(['sentiment_compound', 'date']).size().reset_index(name='count')\n",
    "sentiment_count_pivot = sentiment_count.pivot(index='date', columns='sentiment_compound', values='count').fillna(0)\n",
    "fig, ax = plt.subplots(figsize=(10, 4))\n",
    "ax.plot(sentiment_count_pivot.index, sentiment_count_pivot[1], label='Positive')\n",
    "ax.plot(sentiment_count_pivot.index, sentiment_count_pivot[2], label='Neutral')\n",
    "ax.plot(sentiment_count_pivot.index, sentiment_count_pivot[3], label='Negative')\n",
    "ax.set_title('Sentiment over Time')\n",
    "ax.set_xlabel('Date')\n",
    "ax.set_ylabel('Count')\n",
    "plt.xticks(rotation=45)\n",
    "ax.legend()\n",
    "plt.show()"
   ]
  },
  {
   "cell_type": "code",
   "execution_count": null,
   "id": "b0408245",
   "metadata": {},
   "outputs": [],
   "source": []
  }
 ],
 "metadata": {
  "kernelspec": {
   "display_name": "Python 3 (ipykernel)",
   "language": "python",
   "name": "python3"
  },
  "language_info": {
   "codemirror_mode": {
    "name": "ipython",
    "version": 3
   },
   "file_extension": ".py",
   "mimetype": "text/x-python",
   "name": "python",
   "nbconvert_exporter": "python",
   "pygments_lexer": "ipython3",
   "version": "3.9.12"
  }
 },
 "nbformat": 4,
 "nbformat_minor": 5
}
